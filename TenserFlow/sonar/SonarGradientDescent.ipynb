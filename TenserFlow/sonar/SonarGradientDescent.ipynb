{
 "cells": [
  {
   "cell_type": "code",
   "execution_count": 75,
   "metadata": {},
   "outputs": [],
   "source": [
    "import matplotlib.pyplot as plt\n",
    "import tensorflow as tf\n",
    "import numpy as np\n",
    "import pandas as pd\n",
    "from sklearn.preprocessing import LabelEncoder\n",
    "from sklearn.utils import  shuffle\n",
    "from sklearn.model_selection import train_test_split"
   ]
  },
  {
   "cell_type": "code",
   "execution_count": 76,
   "metadata": {},
   "outputs": [],
   "source": [
    "def read_dataset():\n",
    "    df = pd.read_csv(\"sonar.csv\")\n",
    "    print(len(df.columns))\n",
    "    X = df[df.columns[1:60]].values\n",
    "    y=df[df.columns[60]]\n",
    "    Y = pd.get_dummies(y)\n",
    "    return(X,Y)"
   ]
  },
  {
   "cell_type": "code",
   "execution_count": 77,
   "metadata": {},
   "outputs": [],
   "source": [
    "def feature_normalize(features):\n",
    "    mu = np.mean(features,axis=0)\n",
    "    sigma = np.std(features,axis=0)\n",
    "    normalize_features = (features - mu) / sigma\n",
    "    return(normalize_features)"
   ]
  },
  {
   "cell_type": "code",
   "execution_count": 99,
   "metadata": {},
   "outputs": [
    {
     "name": "stdout",
     "output_type": "stream",
     "text": [
      "61\n"
     ]
    }
   ],
   "source": [
    "#read the data\n",
    "X,Y = read_dataset() #X - Features , Y - Labels\n",
    "X= feature_normalize(X)"
   ]
  },
  {
   "cell_type": "code",
   "execution_count": 100,
   "metadata": {},
   "outputs": [],
   "source": [
    "X,Y = shuffle(X,Y,random_state=1)\n",
    "train_x,test_x,train_y,test_y = train_test_split(X,Y,test_size=0.20, random_state=42)"
   ]
  },
  {
   "cell_type": "code",
   "execution_count": 101,
   "metadata": {},
   "outputs": [],
   "source": [
    "learning_rate = 0.1\n",
    "training_epochs = 1001"
   ]
  },
  {
   "cell_type": "code",
   "execution_count": 102,
   "metadata": {},
   "outputs": [],
   "source": [
    "cost_history = np.empty(shape=[1],dtype=float)"
   ]
  },
  {
   "cell_type": "code",
   "execution_count": 103,
   "metadata": {},
   "outputs": [],
   "source": [
    "n_dim = X.shape[1]\n",
    "n_class = 2"
   ]
  },
  {
   "cell_type": "code",
   "execution_count": 104,
   "metadata": {},
   "outputs": [],
   "source": [
    "x = tf.placeholder(tf.float32,[None,n_dim])\n",
    "W = tf.Variable(tf.zeros([n_dim,n_class]))\n",
    "b = tf.Variable(tf.zeros([n_class]))"
   ]
  },
  {
   "cell_type": "code",
   "execution_count": 105,
   "metadata": {},
   "outputs": [],
   "source": [
    "#initialize all variables.\n",
    "init = tf.global_variables_initializer()"
   ]
  },
  {
   "cell_type": "code",
   "execution_count": 106,
   "metadata": {},
   "outputs": [],
   "source": [
    "#define the cost function\n",
    "y_ = tf.placeholder(tf.float32,[None,n_class])\n",
    "y = tf.nn.softmax(tf.matmul(x, W)+ b)\n",
    "cost_function = tf.reduce_mean(-tf.reduce_sum((y_ * tf.log(y)),reduction_indices=[1]))\n",
    "training_step = tf.train.GradientDescentOptimizer(learning_rate).minimize(cost_function)"
   ]
  },
  {
   "cell_type": "code",
   "execution_count": 107,
   "metadata": {},
   "outputs": [],
   "source": [
    "#initialize the session\n",
    "sess = tf.Session()\n",
    "sess.run(init)\n",
    "mse_history = []"
   ]
  },
  {
   "cell_type": "code",
   "execution_count": 108,
   "metadata": {},
   "outputs": [
    {
     "name": "stdout",
     "output_type": "stream",
     "text": [
      "epoch :  0  -  cost:  0.5969459\n",
      "epoch :  100  -  cost:  0.29007927\n",
      "epoch :  200  -  cost:  0.25453407\n",
      "epoch :  300  -  cost:  0.23547654\n",
      "epoch :  400  -  cost:  0.222742\n",
      "epoch :  500  -  cost:  0.21324602\n",
      "epoch :  600  -  cost:  0.20568912\n",
      "epoch :  700  -  cost:  0.19941518\n",
      "epoch :  800  -  cost:  0.19405127\n",
      "epoch :  900  -  cost:  0.18936716\n",
      "epoch :  1000  -  cost:  0.18521076\n"
     ]
    }
   ],
   "source": [
    "for epoch in range(training_epochs):\n",
    "    sess.run(training_step,feed_dict={x:train_x,y_:train_y})\n",
    "    cost = sess.run(cost_function,feed_dict={x: train_x,y_: train_y})\n",
    "    cost_history = np.append(cost_history,cost)\n",
    "    pred_y = sess.run(y, feed_dict={x: test_x})\n",
    "    if(epoch%100==0):\n",
    "        print('epoch : ', epoch,  ' - ', 'cost: ', cost)"
   ]
  },
  {
   "cell_type": "code",
   "execution_count": null,
   "metadata": {},
   "outputs": [],
   "source": []
  }
 ],
 "metadata": {
  "kernelspec": {
   "display_name": "Python 3",
   "language": "python",
   "name": "python3"
  },
  "language_info": {
   "codemirror_mode": {
    "name": "ipython",
    "version": 3
   },
   "file_extension": ".py",
   "mimetype": "text/x-python",
   "name": "python",
   "nbconvert_exporter": "python",
   "pygments_lexer": "ipython3",
   "version": "3.6.8"
  }
 },
 "nbformat": 4,
 "nbformat_minor": 2
}
