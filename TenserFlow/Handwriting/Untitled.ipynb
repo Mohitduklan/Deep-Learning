{
 "cells": [
  {
   "cell_type": "code",
   "execution_count": 1,
   "metadata": {},
   "outputs": [
    {
     "name": "stderr",
     "output_type": "stream",
     "text": [
      "F:\\Anaconda\\lib\\site-packages\\h5py\\__init__.py:36: FutureWarning: Conversion of the second argument of issubdtype from `float` to `np.floating` is deprecated. In future, it will be treated as `np.float64 == np.dtype(float).type`.\n",
      "  from ._conv import register_converters as _register_converters\n"
     ]
    }
   ],
   "source": [
    "import matplotlib.pyplot as plt\n",
    "import tensorflow as tf\n",
    "import numpy as np\n",
    "import pandas as pd\n",
    "from sklearn.preprocessing import LabelEncoder\n",
    "from sklearn.utils import shuffle\n",
    "from sklearn.model_selection import train_test_split\n",
    "from sklearn.metrics import confusion_matrix\n",
    "import seaborn as sns"
   ]
  },
  {
   "cell_type": "code",
   "execution_count": 107,
   "metadata": {},
   "outputs": [],
   "source": [
    "data = pd.read_csv('all/train.csv')\n",
    "data = shuffle(data)\n"
   ]
  },
  {
   "cell_type": "code",
   "execution_count": 108,
   "metadata": {},
   "outputs": [
    {
     "data": {
      "text/plain": [
       "<matplotlib.image.AxesImage at 0x29fce1c9710>"
      ]
     },
     "execution_count": 108,
     "metadata": {},
     "output_type": "execute_result"
    },
    {
     "data": {
      "image/png": "[encoded data removed]",
      "text/plain": [
       "<Figure size 432x288 with 1 Axes>"
      ]
     },
     "metadata": {},
     "output_type": "display_data"
    }
   ],
   "source": [
    "img = data.iloc[0, 1:].values\n",
    "img = img.reshape(28,28)\n",
    "plt.imshow(img)\n",
    "\n"
   ]
  },
  {
   "cell_type": "code",
   "execution_count": 109,
   "metadata": {},
   "outputs": [],
   "source": [
    "X = data.iloc[:1000,1:].values\n",
    "Y = data.iloc[:1000,0].values"
   ]
  },
  {
   "cell_type": "code",
   "execution_count": 110,
   "metadata": {},
   "outputs": [],
   "source": [
    "X = (X - np.min(X))/(np.max(X)-np.min(X))\n",
    "Y = pd.get_dummies(Y)\n",
    "X, test_X, Y, test_y = train_test_split(X, Y , test_size=.20, random_state = 0)"
   ]
  },
  {
   "cell_type": "code",
   "execution_count": 111,
   "metadata": {},
   "outputs": [
    {
     "name": "stdout",
     "output_type": "stream",
     "text": [
      "X:   (800, 784)   y  : (800, 10)\n"
     ]
    }
   ],
   "source": [
    "print('X:  ',X.shape,'  y  :',Y.shape)"
   ]
  },
  {
   "cell_type": "code",
   "execution_count": 112,
   "metadata": {},
   "outputs": [],
   "source": [
    "n_features = X.shape[1]\n",
    "n_class = Y.shape[1]\n",
    "learning_rate = .5\n",
    "epochs = 5001"
   ]
  },
  {
   "cell_type": "code",
   "execution_count": 113,
   "metadata": {},
   "outputs": [],
   "source": [
    "n_hidden_1 = 10\n",
    "n_hidden_2 = 10\n",
    "n_hidden_3 = 10\n",
    "n_hidden_4 = 10"
   ]
  },
  {
   "cell_type": "code",
   "execution_count": 114,
   "metadata": {},
   "outputs": [],
   "source": [
    "x = tf.placeholder(tf.float32, [None, n_features])\n",
    "y = tf.placeholder(tf.float32, [None, n_class])"
   ]
  },
  {
   "cell_type": "code",
   "execution_count": 115,
   "metadata": {},
   "outputs": [],
   "source": [
    "Weights = {\n",
    "            'W1' : tf.Variable(tf.random_normal([n_features, n_hidden_1])),\n",
    "            'W2' : tf.Variable(tf.random_normal([n_hidden_1, n_hidden_2])),\n",
    "            'W3' : tf.Variable(tf.random_normal([n_hidden_2, n_hidden_3])),\n",
    "            'W4' : tf.Variable(tf.random_normal([n_hidden_3, n_hidden_4])),\n",
    "            'y' : tf.Variable(tf.random_normal([n_hidden_4, n_class]))\n",
    "    }\n",
    "\n",
    "biases = {\n",
    "            'b1' : tf.Variable(tf.random_normal([n_hidden_1])),\n",
    "            'b2' : tf.Variable(tf.random_normal([n_hidden_2])),\n",
    "            'b3' : tf.Variable(tf.random_normal([n_hidden_3])),\n",
    "            'b4' : tf.Variable(tf.random_normal([n_hidden_4])),\n",
    "            'y' : tf.Variable(tf.random_normal([n_class]))\n",
    "    }"
   ]
  },
  {
   "cell_type": "code",
   "execution_count": 116,
   "metadata": {},
   "outputs": [],
   "source": [
    "#Forward_propogation\n",
    "def forward_propogation(X, Weight, biases):\n",
    "    Layer_1 = tf.nn.relu(tf.add(tf.matmul(X, Weights['W1']), biases['b1']))\n",
    "    Layer_2 = tf.nn.sigmoid(tf.add(tf.matmul(Layer_1, Weights['W2']), biases['b2']))\n",
    "    Layer_3 = tf.nn.sigmoid(tf.add(tf.matmul(Layer_2, Weights['W3']), biases['b3']))\n",
    "    Layer_4 = tf.nn.sigmoid(tf.add(tf.matmul(Layer_3, Weights['W4']), biases['b4']))\n",
    "    pred_y = (tf.add(tf.matmul(Layer_4, Weights['y']), biases['y']))\n",
    "    return pred_y\n",
    "    "
   ]
  },
  {
   "cell_type": "code",
   "execution_count": 117,
   "metadata": {},
   "outputs": [],
   "source": [
    "pred_y = forward_propogation(x, Weights, biases)\n",
    "compute_cost = tf.reduce_mean(tf.nn.softmax_cross_entropy_with_logits(logits = pred_y, labels = y))\n",
    "optimizer = tf.train.GradientDescentOptimizer(learning_rate).minimize(compute_cost)"
   ]
  },
  {
   "cell_type": "code",
   "execution_count": 118,
   "metadata": {},
   "outputs": [],
   "source": [
    "init = tf.global_variables_initializer()\n",
    "sess = tf.Session()\n",
    "\n",
    "saver = tf.train.Saver()\n",
    "model_path = \"E:/Jupyter/Deep Learning/TenserFlow/Handwriting/\""
   ]
  },
  {
   "cell_type": "code",
   "execution_count": 119,
   "metadata": {},
   "outputs": [
    {
     "name": "stdout",
     "output_type": "stream",
     "text": [
      "epochs  :   0   cost_train   : 3.4681888\n",
      "epochs  :   100   cost_train   : 2.0515373\n",
      "epochs  :   200   cost_train   : 1.7852985\n",
      "epochs  :   300   cost_train   : 1.5402752\n",
      "epochs  :   400   cost_train   : 1.379827\n",
      "epochs  :   500   cost_train   : 1.2353446\n",
      "epochs  :   600   cost_train   : 1.1176769\n",
      "epochs  :   700   cost_train   : 1.0117413\n",
      "epochs  :   800   cost_train   : 0.9326205\n",
      "epochs  :   900   cost_train   : 0.8500706\n",
      "epochs  :   1000   cost_train   : 0.7901934\n",
      "epochs  :   1100   cost_train   : 0.7362703\n",
      "epochs  :   1200   cost_train   : 0.69513476\n",
      "epochs  :   1300   cost_train   : 0.63111967\n",
      "epochs  :   1400   cost_train   : 0.59171975\n",
      "epochs  :   1500   cost_train   : 0.5586129\n",
      "epochs  :   1600   cost_train   : 0.53088313\n",
      "epochs  :   1700   cost_train   : 0.50185186\n",
      "epochs  :   1800   cost_train   : 0.47566646\n",
      "epochs  :   1900   cost_train   : 0.44791785\n",
      "epochs  :   2000   cost_train   : 0.42863545\n",
      "epochs  :   2100   cost_train   : 0.41815713\n",
      "epochs  :   2200   cost_train   : 0.40419465\n",
      "epochs  :   2300   cost_train   : 0.38399905\n",
      "epochs  :   2400   cost_train   : 0.36288634\n",
      "epochs  :   2500   cost_train   : 0.3453266\n",
      "epochs  :   2600   cost_train   : 0.33252332\n",
      "epochs  :   2700   cost_train   : 0.3175707\n",
      "epochs  :   2800   cost_train   : 0.30937994\n",
      "epochs  :   2900   cost_train   : 0.30301055\n",
      "epochs  :   3000   cost_train   : 0.29754746\n",
      "epochs  :   3100   cost_train   : 0.29158884\n",
      "epochs  :   3200   cost_train   : 0.28620684\n",
      "epochs  :   3300   cost_train   : 0.28042436\n",
      "epochs  :   3400   cost_train   : 0.27434283\n",
      "epochs  :   3500   cost_train   : 0.2699689\n",
      "epochs  :   3600   cost_train   : 0.26581475\n",
      "epochs  :   3700   cost_train   : 0.26183262\n",
      "epochs  :   3800   cost_train   : 0.25828195\n",
      "epochs  :   3900   cost_train   : 0.2547874\n",
      "epochs  :   4000   cost_train   : 0.25225022\n",
      "epochs  :   4100   cost_train   : 0.24976356\n",
      "epochs  :   4200   cost_train   : 0.24704027\n",
      "epochs  :   4300   cost_train   : 0.24549656\n",
      "epochs  :   4400   cost_train   : 0.24265084\n",
      "epochs  :   4500   cost_train   : 0.28535518\n",
      "epochs  :   4600   cost_train   : 0.23425326\n",
      "epochs  :   4700   cost_train   : 0.23179352\n",
      "epochs  :   4800   cost_train   : 0.22997345\n",
      "epochs  :   4900   cost_train   : 0.2278729\n",
      "epochs  :   5000   cost_train   : 0.22435994\n"
     ]
    }
   ],
   "source": [
    "with tf.Session() as sess:\n",
    "    sess.run(init)\n",
    "    for epoch in range(epochs):\n",
    "        sess.run(optimizer, feed_dict={x:X, y:Y})\n",
    "        cost_train = sess.run(compute_cost, feed_dict={x:X, y:Y})\n",
    "        if(epoch%100==0):\n",
    "            print(\"epochs  :  \",epoch,\"  cost_train   :\", cost_train)\n",
    "        pred = sess.run(pred_y, feed_dict={x:test_X})"
   ]
  },
  {
   "cell_type": "code",
   "execution_count": 121,
   "metadata": {},
   "outputs": [
    {
     "name": "stderr",
     "output_type": "stream",
     "text": [
      "F:\\Anaconda\\lib\\site-packages\\ipykernel_launcher.py:2: FutureWarning: Method .as_matrix will be removed in a future version. Use .values instead.\n",
      "  \n"
     ]
    }
   ],
   "source": [
    "test_pred_normal = np.argmax(pred, axis=1)\n",
    "test_y_normal = np.argmax(test_y.as_matrix(), axis=1)"
   ]
  },
  {
   "cell_type": "code",
   "execution_count": 122,
   "metadata": {},
   "outputs": [
    {
     "data": {
      "text/plain": [
       "array([[10,  0,  0,  0,  0,  0,  0,  0,  0,  0],\n",
       "       [ 0, 25,  0,  1,  1,  1,  2,  1,  0,  0],\n",
       "       [ 0,  2, 15,  2,  0,  3,  2,  2,  0,  0],\n",
       "       [ 0,  1,  3,  9,  0,  3,  0,  1,  1,  0],\n",
       "       [ 0,  0,  0,  0, 12,  0,  0,  0,  0,  6],\n",
       "       [ 3,  0,  1,  1,  0,  7,  1,  1,  6,  2],\n",
       "       [ 0,  0,  2,  0,  2,  0, 12,  0,  1,  0],\n",
       "       [ 2,  1,  2,  0,  0,  1,  0,  9,  2,  1],\n",
       "       [ 0,  2,  0,  1,  1,  2,  0,  3,  7,  2],\n",
       "       [ 0,  0,  0,  0,  2,  2,  1,  0,  3, 14]], dtype=int64)"
      ]
     },
     "execution_count": 122,
     "metadata": {},
     "output_type": "execute_result"
    }
   ],
   "source": [
    "confusion_matrix(test_pred_normal, test_y_normal)"
   ]
  },
  {
   "cell_type": "code",
   "execution_count": 123,
   "metadata": {},
   "outputs": [
    {
     "data": {
      "text/plain": [
       "(array([7, 4, 4, 2, 7, 2, 7, 9, 8, 6, 6, 8, 2, 9, 5, 2, 7, 4, 1, 1, 0, 3,\n",
       "        1, 5, 0, 5, 4, 7, 8, 2, 2, 9, 7, 5, 8, 2, 1, 0, 1, 1, 2, 2, 5, 7,\n",
       "        9, 0, 3, 3, 7, 1, 3, 9, 6, 4, 3, 4, 7, 9, 3, 0, 2, 9, 6, 6, 5, 8,\n",
       "        1, 1, 4, 4, 9, 4, 4, 9, 7, 4, 9, 9, 8, 2, 3, 8, 1, 7, 3, 6, 3, 4,\n",
       "        2, 6, 1, 3, 8, 3, 3, 2, 1, 2, 1, 1, 4, 8, 1, 5, 0, 8, 9, 3, 0, 6,\n",
       "        5, 9, 9, 2, 5, 1, 4, 2, 7, 4, 8, 8, 7, 5, 9, 7, 0, 1, 5, 7, 2, 9,\n",
       "        1, 8, 6, 6, 9, 1, 2, 1, 0, 8, 6, 1, 5, 2, 8, 9, 5, 1, 3, 3, 6, 5,\n",
       "        5, 6, 5, 7, 6, 9, 3, 5, 5, 2, 5, 1, 6, 5, 2, 3, 4, 8, 1, 2, 9, 8,\n",
       "        1, 1, 5, 3, 7, 4, 4, 9, 1, 0, 2, 9, 2, 6, 1, 1, 2, 1, 8, 6, 7, 5,\n",
       "        2, 1], dtype=int64),\n",
       " array([7, 9, 4, 3, 7, 2, 2, 9, 9, 6, 6, 8, 2, 8, 6, 2, 0, 9, 1, 1, 0, 5,\n",
       "        1, 0, 0, 2, 4, 0, 1, 2, 6, 4, 7, 9, 7, 2, 6, 0, 1, 1, 3, 2, 8, 7,\n",
       "        8, 0, 3, 3, 7, 1, 3, 9, 2, 4, 3, 4, 1, 9, 2, 0, 1, 9, 6, 6, 0, 1,\n",
       "        1, 1, 4, 4, 9, 4, 4, 4, 7, 4, 9, 9, 8, 6, 3, 3, 1, 8, 8, 6, 2, 4,\n",
       "        2, 6, 1, 2, 9, 3, 1, 7, 1, 1, 1, 1, 9, 8, 4, 8, 0, 8, 8, 5, 0, 6,\n",
       "        8, 6, 9, 2, 5, 1, 9, 2, 7, 9, 7, 5, 5, 5, 9, 9, 0, 5, 7, 7, 5, 5,\n",
       "        1, 8, 4, 2, 9, 1, 2, 1, 0, 7, 8, 1, 8, 5, 4, 5, 5, 1, 5, 7, 6, 8,\n",
       "        5, 6, 8, 2, 4, 9, 3, 0, 5, 2, 9, 7, 6, 5, 5, 3, 9, 8, 6, 2, 9, 8,\n",
       "        1, 1, 3, 3, 8, 4, 4, 9, 1, 0, 2, 9, 2, 6, 1, 1, 7, 3, 5, 6, 7, 5,\n",
       "        2, 1], dtype=int64))"
      ]
     },
     "execution_count": 123,
     "metadata": {},
     "output_type": "execute_result"
    }
   ],
   "source": [
    "test_pred_normal, test_y_normal"
   ]
  },
  {
   "cell_type": "code",
   "execution_count": null,
   "metadata": {},
   "outputs": [],
   "source": [
    "for x in range(len(test_pred_normal)):\n",
    "    print(test_pred_normal[x])\n",
    "    if(input(\"n to stop\")==\"n\"):\n",
    "        break\n",
    "    a = pd.DataFrame(test_X)\n",
    "    img = a.iloc[x, 0:].values\n",
    "    img = img.reshape(28,28)\n",
    "    plt.imshow(img)"
   ]
  },
  {
   "cell_type": "code",
   "execution_count": null,
   "metadata": {},
   "outputs": [],
   "source": [
    "img = data.iloc[2, 1:].values\n",
    "img = img.reshape(28,28)\n",
    "plt.imshow(img)"
   ]
  },
  {
   "cell_type": "code",
   "execution_count": null,
   "metadata": {},
   "outputs": [],
   "source": []
  }
 ],
 "metadata": {
  "kernelspec": {
   "display_name": "Python 3",
   "language": "python",
   "name": "python3"
  },
  "language_info": {
   "codemirror_mode": {
    "name": "ipython",
    "version": 3
   },
   "file_extension": ".py",
   "mimetype": "text/x-python",
   "name": "python",
   "nbconvert_exporter": "python",
   "pygments_lexer": "ipython3",
   "version": "3.6.5"
  }
 },
 "nbformat": 4,
 "nbformat_minor": 2
}
