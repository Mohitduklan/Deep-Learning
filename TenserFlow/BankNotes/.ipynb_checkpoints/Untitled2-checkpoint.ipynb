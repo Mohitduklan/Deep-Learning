{
 "cells": [
  {
   "cell_type": "code",
   "execution_count": 1,
   "metadata": {},
   "outputs": [
    {
     "name": "stderr",
     "output_type": "stream",
     "text": [
      "F:\\Anaconda\\lib\\site-packages\\h5py\\__init__.py:36: FutureWarning: Conversion of the second argument of issubdtype from `float` to `np.floating` is deprecated. In future, it will be treated as `np.float64 == np.dtype(float).type`.\n",
      "  from ._conv import register_converters as _register_converters\n"
     ]
    }
   ],
   "source": [
    "import matplotlib.pyplot as plt\n",
    "import tensorflow as tf\n",
    "import numpy as np\n",
    "import pandas as pd\n",
    "from sklearn.preprocessing import LabelEncoder\n",
    "from sklearn.utils import shuffle\n",
    "from sklearn.model_selection import train_test_split"
   ]
  },
  {
   "cell_type": "code",
   "execution_count": 2,
   "metadata": {},
   "outputs": [],
   "source": [
    "def read_dataset():\n",
    "    df = pd.read_csv(\"BankNote.csv\")\n",
    "    print(len(df.columns))\n",
    "    X = df[df.columns[:4]].values\n",
    "    y = df[df.columns[4]]\n",
    "    Y=pd.get_dummies(y)\n",
    "    print(X.shape)\n",
    "    return(X,Y)"
   ]
  },
  {
   "cell_type": "code",
   "execution_count": 3,
   "metadata": {},
   "outputs": [
    {
     "name": "stdout",
     "output_type": "stream",
     "text": [
      "5\n",
      "(1371, 4)\n"
     ]
    }
   ],
   "source": [
    "X, y = read_dataset()\n",
    "X, y = shuffle(X, y, random_state =1)\n",
    "train_X, test_X, train_y, test_y = train_test_split(X, y, test_size=0.20, random_state=415)\n",
    "learning_rate = 1.0\n",
    "training_epochs = 501\n",
    "n_features = X.shape[1]\n",
    "n_class = 2\n",
    "n_hidden_1 = 5\n",
    "n_hidden_2 = 4\n",
    "x = tf.placeholder(tf.float32, [None,n_features])\n",
    "w = tf.Variable(tf.zeros([n_features, n_class]))\n",
    "b = tf.Variable(tf.zeros([n_class]))\n",
    "y_ = tf.placeholder(tf.float32, [None, n_class])"
   ]
  },
  {
   "cell_type": "code",
   "execution_count": 4,
   "metadata": {},
   "outputs": [],
   "source": [
    "def forward_propogation(x, weights, biases):\n",
    "\tlayer_1 = tf.add(tf.matmul(x, weights['h1']),biases['b1'])\n",
    "\tlayer_1 = tf.nn.relu(layer_1)\n",
    "\tlayer_2 = tf.add(tf.matmul(layer_1, weights['h2']),biases['b2'])\n",
    "\tlayer_2 = tf.nn.relu(layer_2)\n",
    "\tout_layer = tf.matmul(layer_2, weights['out'])+biases['out']\n",
    "\tout_layer = tf.nn.sigmoid(out_layer)\n",
    "\treturn out_layer"
   ]
  },
  {
   "cell_type": "code",
   "execution_count": 5,
   "metadata": {},
   "outputs": [],
   "source": [
    "weights = {\n",
    "\t'h1':tf.Variable(tf.truncated_normal([n_features, n_hidden_1])),\n",
    "\t'h2':tf.Variable(tf.truncated_normal([n_hidden_1, n_hidden_2])),\n",
    "\t'out':tf.Variable(tf.truncated_normal([n_hidden_2, n_class]))\n",
    "}\n",
    "\n",
    "biases = {\n",
    "\t'b1':tf.Variable(tf.truncated_normal([n_hidden_1])),\n",
    "\t'b2':tf.Variable(tf.truncated_normal([n_hidden_2])),\n",
    "\t'out':tf.Variable(tf.truncated_normal([n_class])),\n",
    "}"
   ]
  },
  {
   "cell_type": "code",
   "execution_count": 7,
   "metadata": {},
   "outputs": [
    {
     "name": "stdout",
     "output_type": "stream",
     "text": [
      "WARNING:tensorflow:From <ipython-input-7-ea10cfb6c40f>:3: softmax_cross_entropy_with_logits (from tensorflow.python.ops.nn_ops) is deprecated and will be removed in a future version.\n",
      "Instructions for updating:\n",
      "\n",
      "Future major versions of TensorFlow will allow gradients to flow\n",
      "into the labels input on backprop by default.\n",
      "\n",
      "See @{tf.nn.softmax_cross_entropy_with_logits_v2}.\n",
      "\n",
      "epoch :  0 - cost :  0.60486776\n",
      "epoch :  100 - cost :  0.48407662\n",
      "epoch :  200 - cost :  0.4818816\n",
      "epoch :  300 - cost :  0.48154244\n",
      "epoch :  400 - cost :  0.4812685\n",
      "epoch :  500 - cost :  0.4808901\n"
     ]
    }
   ],
   "source": [
    "init = tf.global_variables_initializer()\n",
    "y = forward_propogation(x, weights, biases)\n",
    "cost_function = tf.reduce_mean(tf.nn.softmax_cross_entropy_with_logits(logits=y, labels=y_))\n",
    "training_steps = tf.train.GradientDescentOptimizer(learning_rate).minimize(cost_function)\n",
    "\n",
    "sess = tf.Session()\n",
    "sess.run(init)\n",
    "\n",
    "\n",
    "for epoch in range(training_epochs):\n",
    "    sess.run(training_steps, feed_dict={x:train_X, y_:train_y})\n",
    "    cost = sess.run(cost_function, feed_dict={x:train_X, y_:train_y})\n",
    "    if(epoch%100==0):\n",
    "        print('epoch : ', epoch, '-', 'cost : ',cost)\n"
   ]
  },
  {
   "cell_type": "code",
   "execution_count": null,
   "metadata": {},
   "outputs": [],
   "source": []
  }
 ],
 "metadata": {
  "kernelspec": {
   "display_name": "Python 3",
   "language": "python",
   "name": "python3"
  },
  "language_info": {
   "codemirror_mode": {
    "name": "ipython",
    "version": 3
   },
   "file_extension": ".py",
   "mimetype": "text/x-python",
   "name": "python",
   "nbconvert_exporter": "python",
   "pygments_lexer": "ipython3",
   "version": "3.6.5"
  }
 },
 "nbformat": 4,
 "nbformat_minor": 2
}
