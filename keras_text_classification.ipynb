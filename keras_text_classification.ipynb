{
  "nbformat": 4,
  "nbformat_minor": 0,
  "metadata": {
    "colab": {
      "name": "keras_text_classification",
      "provenance": [],
      "authorship_tag": "ABX9TyMxfvxcjiJ7vUwZ7XrgGwOX",
      "include_colab_link": true
    },
    "kernelspec": {
      "name": "python3",
      "display_name": "Python 3"
    }
  },
  "cells": [
    {
      "cell_type": "markdown",
      "metadata": {
        "id": "view-in-github",
        "colab_type": "text"
      },
      "source": [
        "<a href=\"https://colab.research.google.com/github/Mohitduklan/Deep-Learning/blob/master/keras_text_classification.ipynb\" target=\"_parent\"><img src=\"https://colab.research.google.com/assets/colab-badge.svg\" alt=\"Open In Colab\"/></a>"
      ]
    },
    {
      "cell_type": "code",
      "metadata": {
        "id": "cKloLiqIZOTt"
      },
      "source": [
        "import matplotlib.pyplot as plt\n",
        "import os\n",
        "import re\n",
        "import shutil\n",
        "import string\n",
        "import tensorflow as tf\n",
        "import pandas as pd\n",
        "import numpy as np\n",
        "\n",
        "from tensorflow.keras import layers\n",
        "from tensorflow.keras import losses\n",
        "from tensorflow.keras import preprocessing\n",
        "from tensorflow.keras.layers.experimental.preprocessing import TextVectorization"
      ],
      "execution_count": null,
      "outputs": []
    },
    {
      "cell_type": "code",
      "metadata": {
        "id": "WXQd9qMFZfA6"
      },
      "source": [
        "url = \"https://ai.stanford.edu/~amaas/data/sentiment/aclImdb_v1.tar.gz\"\n",
        "\n",
        "dataset = tf.keras.utils.get_file(\"aclImdb_v1.tar.gz\", url,\n",
        "                                    untar=True, cache_dir='.',\n",
        "                                    cache_subdir='')\n",
        "\n"
      ],
      "execution_count": null,
      "outputs": []
    },
    {
      "cell_type": "code",
      "metadata": {
        "colab": {
          "base_uri": "https://localhost:8080/"
        },
        "id": "5jWY_tfpZqif",
        "outputId": "bab6ffc4-cba2-40d2-844d-7bf7690bda13"
      },
      "source": [
        "dataset_dir = os.path.join(os.path.dirname(dataset), 'aclImdb')\n",
        "train_dir = os.path.join(dataset_dir, 'train')"
      ],
      "execution_count": null,
      "outputs": [
        {
          "output_type": "execute_result",
          "data": {
            "text/plain": [
              "['train', 'imdbEr.txt', 'test', 'README', 'imdb.vocab']"
            ]
          },
          "metadata": {
            "tags": []
          },
          "execution_count": 4
        }
      ]
    },
    {
      "cell_type": "code",
      "metadata": {
        "colab": {
          "base_uri": "https://localhost:8080/"
        },
        "id": "QSg-1CyzmHfN",
        "outputId": "980f45c8-6315-481f-91a1-fb3d5b1c259f"
      },
      "source": [
        "batch_size = 32\n",
        "seed = 42\n",
        "\n",
        "raw_train_ds = tf.keras.preprocessing.text_dataset_from_directory(\n",
        "    'aclImdb/train', \n",
        "    batch_size=batch_size, \n",
        "    validation_split=0.2, \n",
        "    subset='training', \n",
        "    seed=seed)"
      ],
      "execution_count": null,
      "outputs": [
        {
          "output_type": "stream",
          "text": [
            "Found 18119 files belonging to 2 classes.\n",
            "Using 14496 files for training.\n"
          ],
          "name": "stdout"
        }
      ]
    },
    {
      "cell_type": "code",
      "metadata": {
        "colab": {
          "base_uri": "https://localhost:8080/"
        },
        "id": "2FE2s8VHmo0M",
        "outputId": "0d26ad9e-7c60-46f1-b152-a70c1fd53527"
      },
      "source": [
        "for text_batch, label_batch in raw_train_ds.take(1):\n",
        "  for i in range(3):\n",
        "    print(\"Review\", text_batch.numpy()[i])\n",
        "    print(\"Label\", label_batch.numpy()[i])"
      ],
      "execution_count": null,
      "outputs": [
        {
          "output_type": "stream",
          "text": [
            "Review b\"I'll come clean. The only reason I even found out about this DVD was because Dominic Monaghan is a favorite actor of mine. When I heard the title of the film, I thought it was going to be...different, perhaps in not such a good way.<br /><br />But I was wrong. After reading what few reviews were out there about this short, I was actually excited about seeing it. I sent off for my copy as soon as able and received it a few weeks later. Needless to say, I was not disappointed.<br /><br />The film follows Jack, a insomniac who is often plagued by conditions which causes him to doubt what is reality, and what is all in his head. I won't give away what happens, but I will tell you that the film can sometimes be frightening in it's realism.<br /><br />The directing is fantastic, focusing on what is essential to the story without allowing it to lose any entertainment or thought-provoking moments.<br /><br />All in all, I give this great film 9 out of 10, for going far beyond what I thought any short could achieve.\"\n",
            "Label 1\n",
            "Review b'I first saw this movie when I was a little kid and fell in love with it at once. The sets are breath taking and some of the script is damn right hilarious: \"You sons of a thousand fleas\".<br /><br />It is always shown on TV late at night or really early in the morning i woke up at about 3:00 am once and it had just started. TV companys need to show a little more respect and put it on prime time Sunday so everyone can get a chance to view this fine work.<br /><br />10/10'\n",
            "Label 1\n",
            "Review b'A great movie, rather challenging than really entertaining. Sadly, no memorable quotes here, but this one\\'s my favorite: Alexandre: If you\\'re leaving someone that you have loved, you have to say what I\\'m telling you now: \"Farewell, I\\'m going.\" But to disappear, to hide like a criminal, is ignoble. (didn\\'t watch it with English subtitles)<br /><br />In my opinion, this expresses it all. There is so much tactics involved in the relationships between Alexandre and the others, and yet everyone longs for a little bit more truth. However, knowing the truth can hurt even more, as Alexandre experiences. Common interpretation is that the movie criticises the mere possibility of \"liberated love\" by depicting the unwanted implications on the people involved. It does, indeed, show this in a convincing manner, but I would appreciate it if the reasons had been treated a bit more in depth: it\\'s not that liberated love is in itself doomed to failure, but people (especially men, I think) should work on themselves and try to overcome the ruling morals before and not through practicing liberated love.<br /><br />That said, the movie\\'s realistic though and really worthwhile watching.'\n",
            "Label 1\n"
          ],
          "name": "stdout"
        }
      ]
    },
    {
      "cell_type": "code",
      "metadata": {
        "colab": {
          "base_uri": "https://localhost:8080/"
        },
        "id": "p6BRQOeimvRG",
        "outputId": "cfd874fd-c4b7-461d-9a1c-8dc22e8ee260"
      },
      "source": [
        "print(\"Label 0 corresponds to\", raw_train_ds.class_names[0])\n",
        "print(\"Label 1 corresponds to\", raw_train_ds.class_names[1])"
      ],
      "execution_count": null,
      "outputs": [
        {
          "output_type": "stream",
          "text": [
            "Label 0 corresponds to neg\n",
            "Label 1 corresponds to pos\n"
          ],
          "name": "stdout"
        }
      ]
    },
    {
      "cell_type": "code",
      "metadata": {
        "id": "1--8aw9xnAog"
      },
      "source": [
        "def custom_standardization(input_data):\n",
        "    lowercase = tf.strings.lower(input_data)\n",
        "    stripped_html = tf.strings.regex_replace(lowercase, '<br />', ' ')\n",
        "    return tf.strings.regex_replace(stripped_html,\n",
        "                                    '[%s]' % re.escape(string.punctuation),\n",
        "                                    '')"
      ],
      "execution_count": null,
      "outputs": []
    },
    {
      "cell_type": "code",
      "metadata": {
        "id": "a_psZ_kDnoPH"
      },
      "source": [
        "max_features = 10000\n",
        "sequence_length = 250\n",
        "\n",
        "vectorize_layer = TextVectorization(\n",
        "    standardize=custom_standardization,\n",
        "    max_tokens=max_features,\n",
        "    output_mode='int',\n",
        "    output_sequence_length=sequence_length)"
      ],
      "execution_count": null,
      "outputs": []
    },
    {
      "cell_type": "code",
      "metadata": {
        "id": "psDe5fvSnrU9"
      },
      "source": [
        "train_text = raw_train_ds.map(lambda x, y: x)\n",
        "vectorize_layer.adapt(train_text)"
      ],
      "execution_count": null,
      "outputs": []
    },
    {
      "cell_type": "code",
      "metadata": {
        "id": "BGrNP2Nkn_at"
      },
      "source": [
        "def vectorize_text(text, label):\n",
        "    text = tf.expand_dims(text, -1)\n",
        "    return vectorize_layer(text), label"
      ],
      "execution_count": null,
      "outputs": []
    },
    {
      "cell_type": "code",
      "metadata": {
        "colab": {
          "base_uri": "https://localhost:8080/"
        },
        "id": "uor6luJDoBZ_",
        "outputId": "fcda0b97-2a37-40d7-b405-d1f7de658d6a"
      },
      "source": [
        "text_batch, label_batch = next(iter(raw_train_ds))\n",
        "first_review, first_label = text_batch[0], label_batch[0]\n",
        "print(\"Review\", first_review)\n",
        "print(\"Label\", raw_train_ds.class_names[first_label])\n",
        "print(\"Vectorized review\", vectorize_text(first_review, first_label))"
      ],
      "execution_count": null,
      "outputs": [
        {
          "output_type": "stream",
          "text": [
            "Review tf.Tensor(b\"If you know the story of Grey Owl, you'll love the movie! Annie Galipeau is a great actress, and Pierce is better than never in Grey Owl. But in this movie there's no real scene of action. I think this movie should be nominated at the Oscars! Welll go see this movie, it's A CLASSIC!\", shape=(), dtype=string)\n",
            "Label pos\n",
            "Vectorized review (<tf.Tensor: shape=(1, 250), dtype=int64, numpy=\n",
            "array([[  45,   24,  119,    2,   55,    5, 3056, 7806,  486,  102,    2,\n",
            "          18, 3793,    1,    7,    4,   71,  513,    3, 4047,    7,  130,\n",
            "          74,  113,    8, 3056, 7806,   17,    8,   11,   18,  226,   66,\n",
            "         145,  131,    5,  215,   10,  103,   11,   18,  144,   28, 2142,\n",
            "          32,    2, 2826,    1,  140,   63,   11,   18,   29,    4,  314,\n",
            "           0,    0,    0,    0,    0,    0,    0,    0,    0,    0,    0,\n",
            "           0,    0,    0,    0,    0,    0,    0,    0,    0,    0,    0,\n",
            "           0,    0,    0,    0,    0,    0,    0,    0,    0,    0,    0,\n",
            "           0,    0,    0,    0,    0,    0,    0,    0,    0,    0,    0,\n",
            "           0,    0,    0,    0,    0,    0,    0,    0,    0,    0,    0,\n",
            "           0,    0,    0,    0,    0,    0,    0,    0,    0,    0,    0,\n",
            "           0,    0,    0,    0,    0,    0,    0,    0,    0,    0,    0,\n",
            "           0,    0,    0,    0,    0,    0,    0,    0,    0,    0,    0,\n",
            "           0,    0,    0,    0,    0,    0,    0,    0,    0,    0,    0,\n",
            "           0,    0,    0,    0,    0,    0,    0,    0,    0,    0,    0,\n",
            "           0,    0,    0,    0,    0,    0,    0,    0,    0,    0,    0,\n",
            "           0,    0,    0,    0,    0,    0,    0,    0,    0,    0,    0,\n",
            "           0,    0,    0,    0,    0,    0,    0,    0,    0,    0,    0,\n",
            "           0,    0,    0,    0,    0,    0,    0,    0,    0,    0,    0,\n",
            "           0,    0,    0,    0,    0,    0,    0,    0,    0,    0,    0,\n",
            "           0,    0,    0,    0,    0,    0,    0,    0,    0,    0,    0,\n",
            "           0,    0,    0,    0,    0,    0,    0,    0,    0,    0,    0,\n",
            "           0,    0,    0,    0,    0,    0,    0,    0]])>, <tf.Tensor: shape=(), dtype=int32, numpy=1>)\n"
          ],
          "name": "stdout"
        }
      ]
    },
    {
      "cell_type": "code",
      "metadata": {
        "colab": {
          "base_uri": "https://localhost:8080/"
        },
        "id": "oKZPVJ1poGLT",
        "outputId": "23d49295-7774-4dc2-990b-4fb4cb9caf89"
      },
      "source": [
        "print(\"1287 ---> \",vectorize_layer.get_vocabulary()[1287])\n",
        "print(\" 313 ---> \",vectorize_layer.get_vocabulary()[313])\n",
        "print('Vocabulary size: {}'.format(len(vectorize_layer.get_vocabulary())))"
      ],
      "execution_count": null,
      "outputs": [
        {
          "output_type": "stream",
          "text": [
            "1287 --->  costumes\n",
            " 313 --->  left\n",
            "Vocabulary size: 10000\n"
          ],
          "name": "stdout"
        }
      ]
    },
    {
      "cell_type": "code",
      "metadata": {
        "id": "n36AZARzoOFV"
      },
      "source": [
        "train_ds = raw_train_ds.map(vectorize_text)"
      ],
      "execution_count": null,
      "outputs": []
    },
    {
      "cell_type": "code",
      "metadata": {
        "id": "VhJzsXE7odkU"
      },
      "source": [
        "AUTOTUNE = tf.data.AUTOTUNE\n",
        "\n",
        "train_ds = train_ds.cache().prefetch(buffer_size=AUTOTUNE)\n"
      ],
      "execution_count": null,
      "outputs": []
    },
    {
      "cell_type": "code",
      "metadata": {
        "colab": {
          "base_uri": "https://localhost:8080/"
        },
        "id": "Y1-jjJJEonvz",
        "outputId": "d1786003-3dd2-48b3-c1a3-f29e5c188c18"
      },
      "source": [
        "embedding_dim = 16\n",
        "\n",
        "model = tf.keras.Sequential([\n",
        "  layers.Embedding(max_features + 1, embedding_dim),\n",
        "  layers.Dropout(0.2),\n",
        "  layers.GlobalAveragePooling1D(),\n",
        "  layers.Dropout(0.2),\n",
        "  layers.Dense(1)])\n",
        "\n",
        "model.summary()"
      ],
      "execution_count": null,
      "outputs": [
        {
          "output_type": "stream",
          "text": [
            "Model: \"sequential\"\n",
            "_________________________________________________________________\n",
            "Layer (type)                 Output Shape              Param #   \n",
            "=================================================================\n",
            "embedding (Embedding)        (None, None, 16)          160016    \n",
            "_________________________________________________________________\n",
            "dropout (Dropout)            (None, None, 16)          0         \n",
            "_________________________________________________________________\n",
            "global_average_pooling1d (Gl (None, 16)                0         \n",
            "_________________________________________________________________\n",
            "dropout_1 (Dropout)          (None, 16)                0         \n",
            "_________________________________________________________________\n",
            "dense (Dense)                (None, 1)                 17        \n",
            "=================================================================\n",
            "Total params: 160,033\n",
            "Trainable params: 160,033\n",
            "Non-trainable params: 0\n",
            "_________________________________________________________________\n"
          ],
          "name": "stdout"
        }
      ]
    },
    {
      "cell_type": "code",
      "metadata": {
        "id": "2DM6n4HLoxpx"
      },
      "source": [
        "model.compile(loss=losses.BinaryCrossentropy(from_logits=True),\n",
        "              optimizer='adam',\n",
        "              metrics=tf.metrics.BinaryAccuracy(threshold=0.0))"
      ],
      "execution_count": null,
      "outputs": []
    },
    {
      "cell_type": "code",
      "metadata": {
        "colab": {
          "base_uri": "https://localhost:8080/"
        },
        "id": "xKCBSkvnpCqd",
        "outputId": "02ee04ac-f1df-4aa4-83b3-e607fecd5b14"
      },
      "source": [
        "epochs = 10\n",
        "history = model.fit(\n",
        "    train_ds,\n",
        "    epochs=epochs)"
      ],
      "execution_count": null,
      "outputs": [
        {
          "output_type": "stream",
          "text": [
            "Epoch 1/10\n",
            "453/453 [==============================] - 8s 16ms/step - loss: 0.6433 - binary_accuracy: 0.6788\n",
            "Epoch 2/10\n",
            "453/453 [==============================] - 3s 7ms/step - loss: 0.5817 - binary_accuracy: 0.6949\n",
            "Epoch 3/10\n",
            "453/453 [==============================] - 3s 6ms/step - loss: 0.5302 - binary_accuracy: 0.7115\n",
            "Epoch 4/10\n",
            "453/453 [==============================] - 3s 7ms/step - loss: 0.4652 - binary_accuracy: 0.7788\n",
            "Epoch 5/10\n",
            "453/453 [==============================] - 3s 6ms/step - loss: 0.4048 - binary_accuracy: 0.8305\n",
            "Epoch 6/10\n",
            "453/453 [==============================] - 3s 6ms/step - loss: 0.3586 - binary_accuracy: 0.8590\n",
            "Epoch 7/10\n",
            "453/453 [==============================] - 3s 6ms/step - loss: 0.3234 - binary_accuracy: 0.8751\n",
            "Epoch 8/10\n",
            "453/453 [==============================] - 3s 6ms/step - loss: 0.2985 - binary_accuracy: 0.8895\n",
            "Epoch 9/10\n",
            "453/453 [==============================] - 3s 7ms/step - loss: 0.2751 - binary_accuracy: 0.8995\n",
            "Epoch 10/10\n",
            "453/453 [==============================] - 3s 6ms/step - loss: 0.2584 - binary_accuracy: 0.9033\n"
          ],
          "name": "stdout"
        }
      ]
    },
    {
      "cell_type": "code",
      "metadata": {
        "id": "qvmlfQ8TpERI"
      },
      "source": [
        ""
      ],
      "execution_count": null,
      "outputs": []
    }
  ]
}