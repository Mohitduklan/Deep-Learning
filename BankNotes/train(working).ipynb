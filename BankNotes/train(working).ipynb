{
 "cells": [
  {
   "cell_type": "code",
   "execution_count": 2,
   "metadata": {},
   "outputs": [],
   "source": [
    "import matplotlib.pyplot as plt\n",
    "import tensorflow as tf\n",
    "import numpy as np\n",
    "import pandas as pd\n",
    "from sklearn.preprocessing import LabelEncoder\n",
    "from sklearn.utils import shuffle\n",
    "from sklearn.model_selection import train_test_split"
   ]
  },
  {
   "cell_type": "markdown",
   "metadata": {},
   "source": [
    "##### Reading Files "
   ]
  },
  {
   "cell_type": "code",
   "execution_count": 3,
   "metadata": {},
   "outputs": [],
   "source": [
    "def read_dataset():\n",
    "    df = pd.read_csv(\"BankNote.csv\")\n",
    "    X = df.iloc[:,:4].values\n",
    "    Y = df.iloc[:,4]\n",
    "    Y = pd.get_dummies(Y)  # One Hot Encoding\n",
    "    return(X,Y)"
   ]
  },
  {
   "cell_type": "markdown",
   "metadata": {},
   "source": [
    "##### Shuffle the dataset to mix up the rows. Convert the dataset into train and test part and INITIALIZING VARIABLES"
   ]
  },
  {
   "cell_type": "code",
   "execution_count": 14,
   "metadata": {},
   "outputs": [],
   "source": [
    "X, Y = read_dataset()\n",
    "X, Y = shuffle(X, Y, random_state=1)\n",
    "train_X, test_X, train_y, test_y = train_test_split(X, Y, test_size=20, random_state=415)\n",
    "learning_rate = .3\n",
    "training_epochs = 1001  #Loops\n",
    "n_features = X.shape[1]    # features in X\n",
    "n_class = Y.shape[1]    #classes in y\n",
    "n_hidden_1 = 60\n",
    "n_hidden_2 = 60\n",
    "\n",
    "x = tf.placeholder(tf.float32, [None, n_features])\n",
    "y = tf.placeholder(tf.float32, [None, n_class])"
   ]
  },
  {
   "cell_type": "markdown",
   "metadata": {},
   "source": [
    "##### Initializing WEIGHTS & BIASES"
   ]
  },
  {
   "cell_type": "code",
   "execution_count": 15,
   "metadata": {},
   "outputs": [],
   "source": [
    "Weights = {\n",
    "    'W1' : tf.Variable(tf.truncated_normal([n_features, n_hidden_1])),\n",
    "    'W2' : tf.Variable(tf.truncated_normal([n_hidden_1, n_hidden_2])),\n",
    "    'out' : tf.Variable(tf.truncated_normal([n_hidden_2, n_class]))\n",
    "}\n",
    "biases = {\n",
    "    'b1' : tf.Variable(tf.truncated_normal([n_hidden_1])),\n",
    "    'b2' : tf.Variable(tf.truncated_normal([n_hidden_2])),\n",
    "    'out' : tf.Variable(tf.truncated_normal([n_class]))\n",
    "}\n"
   ]
  },
  {
   "cell_type": "markdown",
   "metadata": {},
   "source": [
    "##### Forward Propogation"
   ]
  },
  {
   "cell_type": "code",
   "execution_count": 22,
   "metadata": {},
   "outputs": [],
   "source": [
    "def forward_propogation(X, Weights, biases):\n",
    "    Layer1 = tf.nn.relu(tf.add(tf.matmul(X, Weights['W1']), biases['b1']))\n",
    "    Layer2 = tf.nn.sigmoid(tf.add(tf.matmul(Layer1, Weights['W2']), biases['b2']))\n",
    "    y_ = tf.add(tf.matmul(Layer2, Weights['out']), biases['out'])\n",
    "    return y_"
   ]
  },
  {
   "cell_type": "markdown",
   "metadata": {},
   "source": [
    "##### Global initializer"
   ]
  },
  {
   "cell_type": "code",
   "execution_count": 23,
   "metadata": {},
   "outputs": [],
   "source": [
    "init = tf.global_variables_initializer()"
   ]
  },
  {
   "cell_type": "markdown",
   "metadata": {},
   "source": [
    "##### Model"
   ]
  },
  {
   "cell_type": "code",
   "execution_count": 24,
   "metadata": {
    "scrolled": false
   },
   "outputs": [
    {
     "name": "stdout",
     "output_type": "stream",
     "text": [
      "0   training cost 0.7620496   test_cost 0.8901936\n",
      "100   training cost 0.006387897   test_cost 0.006096428\n",
      "200   training cost 0.00347365   test_cost 0.0030005914\n",
      "300   training cost 0.0022140362   test_cost 0.0017407238\n",
      "400   training cost 0.0016938375   test_cost 0.0013146925\n",
      "500   training cost 0.0013896958   test_cost 0.0010356522\n",
      "600   training cost 0.0011819033   test_cost 0.0008560234\n",
      "700   training cost 0.001030497   test_cost 0.0007432648\n",
      "800   training cost 0.00090319547   test_cost 0.0006634215\n",
      "900   training cost 0.0007992964   test_cost 0.0005988853\n",
      "1000   training cost 0.00072829257   test_cost 0.00055141316\n"
     ]
    }
   ],
   "source": [
    "y_ = forward_propogation(x, Weights, biases)\n",
    "cost_function = tf.reduce_mean(tf.nn.softmax_cross_entropy_with_logits(logits=y_, labels=y))\n",
    "optimizer = tf.train.GradientDescentOptimizer(learning_rate).minimize(cost_function)\n",
    "test_log=[]\n",
    "train_log=[]\n",
    "with tf.Session() as sess:\n",
    "    sess.run(init)\n",
    "    for epoch in range(training_epochs):\n",
    "        sess.run(optimizer, feed_dict={x:train_X, y:train_y})\n",
    "        training_cost = sess.run(cost_function, feed_dict={x:train_X, y:train_y})\n",
    "        test_cost = sess.run(cost_function, feed_dict={x:test_X, y:test_y})\n",
    "        train_log.append(training_cost)\n",
    "        test_log.append(test_cost)\n",
    "        if(epoch%100 == 0):\n",
    "            print(epoch,\"  training cost\",training_cost,\"  test_cost\",test_cost)"
   ]
  },
  {
   "cell_type": "code",
   "execution_count": 25,
   "metadata": {},
   "outputs": [
    {
     "data": {
      "text/plain": [
       "Text(0,0.5,'cost')"
      ]
     },
     "execution_count": 25,
     "metadata": {},
     "output_type": "execute_result"
    },
    {
     "data": {
      "image/png": "[encoded data removed]",
      "text/plain": [
       "<Figure size 432x288 with 1 Axes>"
      ]
     },
     "metadata": {},
     "output_type": "display_data"
    }
   ],
   "source": [
    "plt.plot(range(training_epochs), train_log, 'b')\n",
    "plt.plot(range(training_epochs), test_log, 'r')\n",
    "plt.legend((\"train cost\",\"test cost\"))\n",
    "plt.xlabel(\"epochs\")\n",
    "plt.ylabel(\"cost\")"
   ]
  },
  {
   "cell_type": "code",
   "execution_count": null,
   "metadata": {},
   "outputs": [],
   "source": []
  },
  {
   "cell_type": "code",
   "execution_count": null,
   "metadata": {},
   "outputs": [],
   "source": []
  }
 ],
 "metadata": {
  "kernelspec": {
   "display_name": "Python 3",
   "language": "python",
   "name": "python3"
  },
  "language_info": {
   "codemirror_mode": {
    "name": "ipython",
    "version": 3
   },
   "file_extension": ".py",
   "mimetype": "text/x-python",
   "name": "python",
   "nbconvert_exporter": "python",
   "pygments_lexer": "ipython3",
   "version": "3.6.5"
  }
 },
 "nbformat": 4,
 "nbformat_minor": 2
}
