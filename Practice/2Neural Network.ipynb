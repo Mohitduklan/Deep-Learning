{
 "cells": [
  {
   "cell_type": "code",
   "execution_count": 86,
   "metadata": {},
   "outputs": [],
   "source": [
    "import numpy as np\n",
    "import matplotlib.pyplot as plt\n",
    "import pandas as pd\n",
    "import sklearn\n",
    "import sklearn.linear_model\n",
    "from sklearn.datasets.samples_generator import make_blobs"
   ]
  },
  {
   "cell_type": "code",
   "execution_count": null,
   "metadata": {},
   "outputs": [],
   "source": []
  },
  {
   "cell_type": "code",
   "execution_count": 93,
   "metadata": {},
   "outputs": [
    {
     "data": {
      "image/png": "[encoded data removed]",
      "text/plain": [
       "<Figure size 432x288 with 1 Axes>"
      ]
     },
     "metadata": {},
     "output_type": "display_data"
    }
   ],
   "source": [
    "cent=5;\n",
    "X, Y = make_blobs(n_samples=100, centers=cent, n_features=2)\n",
    "X = np.mat(X.T)\n",
    "Y = np.mat(Y.T)\n",
    "m=Y.size\n",
    "plt.scatter([X[0,:]],[X[1,:]],c=[Y])\n",
    "Y_new = np.zeros((cent,Y.size))\n",
    "for i in range(0,Y.size):\n",
    "    Y_new[Y[0,i]][i]=1\n",
    "Y=Y_new\n",
    "n_x = X.shape[0]\n",
    "n_y = Y.shape[0]"
   ]
  },
  {
   "cell_type": "code",
   "execution_count": 94,
   "metadata": {},
   "outputs": [],
   "source": [
    "def sigmoid(Z):\n",
    "    return 1/(1+np.exp(-Z));"
   ]
  },
  {
   "cell_type": "code",
   "execution_count": 95,
   "metadata": {},
   "outputs": [],
   "source": [
    "def init_param(n_x, n_h2, n_h1, n_y):\n",
    "    W1 = np.random.randn(n_h1, n_x)*1\n",
    "    b1 = np.zeros((n_h1, 1))\n",
    "    W2 = np.random.randn(n_h2, n_h1)*1\n",
    "    b2 = np.zeros((n_h2, 1))\n",
    "    W3 = np.random.rand(n_y, n_h2)*1\n",
    "    b3 = np.zeros((n_y, 1))\n",
    "    parameter = {\n",
    "        'W1' : W1,\n",
    "        'b1' : b1,\n",
    "        'W2' : W2,\n",
    "        'b2' : b2,\n",
    "        'W3' : W3,\n",
    "        'b3' : b3\n",
    "    }\n",
    "    return parameter"
   ]
  },
  {
   "cell_type": "code",
   "execution_count": 96,
   "metadata": {},
   "outputs": [],
   "source": [
    "def forward_propagation(X, parameter):\n",
    "    W1 = parameter['W1']\n",
    "    b1 = parameter['b1']\n",
    "    W2 = parameter['W2']\n",
    "    b2 = parameter['b2']\n",
    "    W3 = parameter['W3']\n",
    "    b3 = parameter['b3']\n",
    "    \n",
    "    Z1 = np.dot(W1, X) + b1;\n",
    "    A1 = np.tanh(Z1);\n",
    "    Z2 = np.dot(W2, A1) + b2;\n",
    "    A2 = np.tanh(Z2)\n",
    "    Z3 = np.dot(W3, A2) + b3;\n",
    "    A3 = sigmoid(Z3);\n",
    "    \n",
    "    cache = {\"Z1\": Z1,\n",
    "             \"A1\": A1,\n",
    "             \"Z2\": Z2,\n",
    "             \"A2\": A2,\n",
    "             \"Z3\": Z3,\n",
    "             \"A3\": A3}\n",
    "    return A3, cache"
   ]
  },
  {
   "cell_type": "code",
   "execution_count": 97,
   "metadata": {},
   "outputs": [],
   "source": [
    "def compute_cost(A3, Y):\n",
    "    loss = -1/Y.size*np.sum(np.multiply(Y, np.log(A3)) + np.multiply(np.log(1-A3), 1-Y))\n",
    "    return loss"
   ]
  },
  {
   "cell_type": "code",
   "execution_count": 98,
   "metadata": {},
   "outputs": [],
   "source": [
    "def backward_propogation(parameter, cache, X, Y):\n",
    "    m = Y.size\n",
    "    W1 = parameter['W1']\n",
    "    W2 = parameter['W2']\n",
    "    W3 = parameter['W3']\n",
    "    A1 = cache['A1']\n",
    "    A2 = cache['A2']\n",
    "    A3 = cache['A3']\n",
    "    \n",
    "    dZ3 = A3 - Y\n",
    "    dW3 = np.dot(dZ3, A2.T)/m\n",
    "    db3 = (1 / m) * np.sum(dZ3, axis=1)\n",
    "    dA2 = np.dot(W3.T,dZ3)\n",
    "    dZ2 = np.multiply(dA2,1- np.power(A2, 2))\n",
    "    dW2 = np.dot(dZ2, A1.T)/m\n",
    "    db2 = np.sum(dZ2, axis=1)/m\n",
    "    dA1 = np.dot(W2.T, dZ2)\n",
    "    dZ1 = np.multiply(dA1, 1 - np.power(A1, 2))\n",
    "    dW1 = np.dot(dZ1, X.T)/m\n",
    "    db1 = (1 / m) * np.sum(dZ1, axis=1)\n",
    "    grad = {\n",
    "        'dW1' : dW1,\n",
    "        'dW2' : dW2,\n",
    "        'db1' : db1,\n",
    "        'db2' : db2,\n",
    "        'dW3' : dW3,\n",
    "        'db3' : db3\n",
    "    }\n",
    "    return grad\n"
   ]
  },
  {
   "cell_type": "code",
   "execution_count": 99,
   "metadata": {},
   "outputs": [],
   "source": [
    "def update_param(parameter, grad, gamma = 1):\n",
    "    W1 = parameter['W1']\n",
    "    W2 = parameter['W2']\n",
    "    b1 = parameter['b1']\n",
    "    b2 = parameter['b2']\n",
    "    W3 = parameter['W3']\n",
    "    b3 = parameter['b3']\n",
    "    \n",
    "    dW1 = grad['dW1']\n",
    "    dW2 = grad['dW2']\n",
    "    db1 = grad['db1']\n",
    "    db2 = grad['db2']\n",
    "    dW3 = grad['dW3']\n",
    "    db3 = grad['db3']\n",
    "    \n",
    "    W1 = W1 - gamma * dW1\n",
    "    b1 = b1 - gamma * db1\n",
    "    W2 = W2 - gamma * dW2\n",
    "    b2 = b2 - gamma * db2\n",
    "    W3 = W3 - gamma * dW3\n",
    "    b3 = b3 - gamma * db3\n",
    "    parameter = {\"W1\": W1,\n",
    "                  \"b1\": b1,\n",
    "                  \"W2\": W2,\n",
    "                  \"b2\": b2,\n",
    "                  \"W3\": W3,\n",
    "                  \"b3\": b3}\n",
    "    return parameter"
   ]
  },
  {
   "cell_type": "code",
   "execution_count": 100,
   "metadata": {},
   "outputs": [],
   "source": [
    "def nn_model(X, Y, n_h2, n_h1, num_iterations=10000):\n",
    "    parameter = init_param(n_x, n_h2, n_h1, n_y)\n",
    "    W1 = parameter['W1']\n",
    "    b1 = parameter['b1']\n",
    "    W2 = parameter['W2']\n",
    "    b2 = parameter['b2']\n",
    "    W3 = parameter['W3']\n",
    "    b3 = parameter['b3']\n",
    "    \n",
    "    for i in range(0, num_iterations):\n",
    "        A3, cache = forward_propagation(X, parameter)\n",
    "        cost = compute_cost(A3, Y)\n",
    "        grad = backward_propogation(parameter, cache, X, Y)\n",
    "        parameter = update_param(parameter, grad)\n",
    "        if i % 1000 == 0:\n",
    "            print (\"Cost after iteration %i: %f\" % (i, cost))\n",
    "    return parameter"
   ]
  },
  {
   "cell_type": "code",
   "execution_count": 101,
   "metadata": {},
   "outputs": [
    {
     "name": "stdout",
     "output_type": "stream",
     "text": [
      "Cost after iteration 0: 0.772114\n",
      "Cost after iteration 1000: 0.123140\n",
      "Cost after iteration 2000: 0.116990\n",
      "Cost after iteration 3000: 0.114932\n",
      "Cost after iteration 4000: 0.112762\n",
      "Cost after iteration 5000: 0.030324\n",
      "Cost after iteration 6000: 0.018984\n",
      "Cost after iteration 7000: 0.014028\n",
      "Cost after iteration 8000: 0.011122\n",
      "Cost after iteration 9000: 0.009209\n"
     ]
    }
   ],
   "source": [
    "parameter = nn_model(X, Y, 2, 5, num_iterations=10000)"
   ]
  },
  {
   "cell_type": "code",
   "execution_count": 81,
   "metadata": {},
   "outputs": [],
   "source": [
    "def predict(parameter, X):\n",
    "    A2, cache = forward_propagation(X, parameter)\n",
    "    prediction = np.round(A2)\n",
    "    return prediction"
   ]
  },
  {
   "cell_type": "code",
   "execution_count": 82,
   "metadata": {},
   "outputs": [
    {
     "data": {
      "text/plain": [
       "100.0"
      ]
     },
     "execution_count": 82,
     "metadata": {},
     "output_type": "execute_result"
    }
   ],
   "source": [
    "predictions = predict(parameter, X)\n",
    "100-np.sum(np.abs(predictions-Y))"
   ]
  },
  {
   "cell_type": "code",
   "execution_count": 83,
   "metadata": {},
   "outputs": [],
   "source": [
    "def plot_decision_boundary(model, X, y):\n",
    "    X = np.array(X)\n",
    "    y = y.flat\n",
    "    # Set min and max values and give it some padding\n",
    "    x_min, x_max = X[0, :].min() - 1, X[0, :].max() + 1\n",
    "    y_min, y_max = X[1, :].min() - 1, X[1, :].max() + 1\n",
    "    h = 0.01\n",
    "    xx, yy = np.meshgrid(np.arange(x_min, x_max, h), np.arange(y_min, y_max, h))\n",
    "    Z = model(np.c_[xx.ravel(), yy.ravel()])\n",
    "    Z = Z.reshape(xx.shape)\n",
    "    plt.contourf(xx, yy, Z, cmap=plt.cm.Spectral)\n",
    "    plt.ylabel('x2')\n",
    "    plt.xlabel('x1')\n",
    "    plt.scatter(X[0, :], X[1, :],c=y)\n",
    "    "
   ]
  },
  {
   "cell_type": "code",
   "execution_count": 84,
   "metadata": {},
   "outputs": [
    {
     "ename": "ValueError",
     "evalue": "cannot reshape array of size 29012900 into shape (2674,2170)",
     "output_type": "error",
     "traceback": [
      "\u001b[1;31m---------------------------------------------------------------------------\u001b[0m",
      "\u001b[1;31mValueError\u001b[0m                                Traceback (most recent call last)",
      "\u001b[1;32m<ipython-input-84-7bba42226fcb>\u001b[0m in \u001b[0;36m<module>\u001b[1;34m()\u001b[0m\n\u001b[1;32m----> 1\u001b[1;33m \u001b[0mplot_decision_boundary\u001b[0m\u001b[1;33m(\u001b[0m\u001b[1;32mlambda\u001b[0m \u001b[0mx\u001b[0m\u001b[1;33m:\u001b[0m \u001b[0mpredict\u001b[0m\u001b[1;33m(\u001b[0m\u001b[0mparameter\u001b[0m\u001b[1;33m,\u001b[0m \u001b[0mx\u001b[0m\u001b[1;33m.\u001b[0m\u001b[0mT\u001b[0m\u001b[1;33m)\u001b[0m\u001b[1;33m,\u001b[0m \u001b[0mX\u001b[0m\u001b[1;33m,\u001b[0m \u001b[0mY\u001b[0m\u001b[1;33m)\u001b[0m\u001b[1;33m\u001b[0m\u001b[0m\n\u001b[0m",
      "\u001b[1;32m<ipython-input-83-1150c084e39b>\u001b[0m in \u001b[0;36mplot_decision_boundary\u001b[1;34m(model, X, y)\u001b[0m\n\u001b[0;32m      8\u001b[0m     \u001b[0mxx\u001b[0m\u001b[1;33m,\u001b[0m \u001b[0myy\u001b[0m \u001b[1;33m=\u001b[0m \u001b[0mnp\u001b[0m\u001b[1;33m.\u001b[0m\u001b[0mmeshgrid\u001b[0m\u001b[1;33m(\u001b[0m\u001b[0mnp\u001b[0m\u001b[1;33m.\u001b[0m\u001b[0marange\u001b[0m\u001b[1;33m(\u001b[0m\u001b[0mx_min\u001b[0m\u001b[1;33m,\u001b[0m \u001b[0mx_max\u001b[0m\u001b[1;33m,\u001b[0m \u001b[0mh\u001b[0m\u001b[1;33m)\u001b[0m\u001b[1;33m,\u001b[0m \u001b[0mnp\u001b[0m\u001b[1;33m.\u001b[0m\u001b[0marange\u001b[0m\u001b[1;33m(\u001b[0m\u001b[0my_min\u001b[0m\u001b[1;33m,\u001b[0m \u001b[0my_max\u001b[0m\u001b[1;33m,\u001b[0m \u001b[0mh\u001b[0m\u001b[1;33m)\u001b[0m\u001b[1;33m)\u001b[0m\u001b[1;33m\u001b[0m\u001b[0m\n\u001b[0;32m      9\u001b[0m     \u001b[0mZ\u001b[0m \u001b[1;33m=\u001b[0m \u001b[0mmodel\u001b[0m\u001b[1;33m(\u001b[0m\u001b[0mnp\u001b[0m\u001b[1;33m.\u001b[0m\u001b[0mc_\u001b[0m\u001b[1;33m[\u001b[0m\u001b[0mxx\u001b[0m\u001b[1;33m.\u001b[0m\u001b[0mravel\u001b[0m\u001b[1;33m(\u001b[0m\u001b[1;33m)\u001b[0m\u001b[1;33m,\u001b[0m \u001b[0myy\u001b[0m\u001b[1;33m.\u001b[0m\u001b[0mravel\u001b[0m\u001b[1;33m(\u001b[0m\u001b[1;33m)\u001b[0m\u001b[1;33m]\u001b[0m\u001b[1;33m)\u001b[0m\u001b[1;33m\u001b[0m\u001b[0m\n\u001b[1;32m---> 10\u001b[1;33m     \u001b[0mZ\u001b[0m \u001b[1;33m=\u001b[0m \u001b[0mZ\u001b[0m\u001b[1;33m.\u001b[0m\u001b[0mreshape\u001b[0m\u001b[1;33m(\u001b[0m\u001b[0mxx\u001b[0m\u001b[1;33m.\u001b[0m\u001b[0mshape\u001b[0m\u001b[1;33m)\u001b[0m\u001b[1;33m\u001b[0m\u001b[0m\n\u001b[0m\u001b[0;32m     11\u001b[0m     \u001b[0mplt\u001b[0m\u001b[1;33m.\u001b[0m\u001b[0mcontourf\u001b[0m\u001b[1;33m(\u001b[0m\u001b[0mxx\u001b[0m\u001b[1;33m,\u001b[0m \u001b[0myy\u001b[0m\u001b[1;33m,\u001b[0m \u001b[0mZ\u001b[0m\u001b[1;33m,\u001b[0m \u001b[0mcmap\u001b[0m\u001b[1;33m=\u001b[0m\u001b[0mplt\u001b[0m\u001b[1;33m.\u001b[0m\u001b[0mcm\u001b[0m\u001b[1;33m.\u001b[0m\u001b[0mSpectral\u001b[0m\u001b[1;33m)\u001b[0m\u001b[1;33m\u001b[0m\u001b[0m\n\u001b[0;32m     12\u001b[0m     \u001b[0mplt\u001b[0m\u001b[1;33m.\u001b[0m\u001b[0mylabel\u001b[0m\u001b[1;33m(\u001b[0m\u001b[1;34m'x2'\u001b[0m\u001b[1;33m)\u001b[0m\u001b[1;33m\u001b[0m\u001b[0m\n",
      "\u001b[1;31mValueError\u001b[0m: cannot reshape array of size 29012900 into shape (2674,2170)"
     ]
    }
   ],
   "source": [
    "plot_decision_boundary(lambda x: predict(parameter, x.T), X, Y)"
   ]
  },
  {
   "cell_type": "code",
   "execution_count": null,
   "metadata": {},
   "outputs": [],
   "source": [
    "Y"
   ]
  },
  {
   "cell_type": "code",
   "execution_count": null,
   "metadata": {},
   "outputs": [],
   "source": []
  }
 ],
 "metadata": {
  "kernelspec": {
   "display_name": "Python 3",
   "language": "python",
   "name": "python3"
  },
  "language_info": {
   "codemirror_mode": {
    "name": "ipython",
    "version": 3
   },
   "file_extension": ".py",
   "mimetype": "text/x-python",
   "name": "python",
   "nbconvert_exporter": "python",
   "pygments_lexer": "ipython3",
   "version": "3.6.8"
  }
 },
 "nbformat": 4,
 "nbformat_minor": 2
}
