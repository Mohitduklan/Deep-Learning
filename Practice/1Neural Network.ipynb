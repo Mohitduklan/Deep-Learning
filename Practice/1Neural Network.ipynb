{
 "cells": [
  {
   "cell_type": "code",
   "execution_count": 101,
   "metadata": {},
   "outputs": [],
   "source": [
    "import numpy as np\n",
    "import matplotlib.pyplot as plt\n",
    "import pandas as pd\n",
    "import sklearn\n",
    "import sklearn.linear_model\n",
    "from sklearn.datasets.samples_generator import make_blobs"
   ]
  },
  {
   "cell_type": "code",
   "execution_count": 127,
   "metadata": {},
   "outputs": [
    {
     "data": {
      "image/png": "[encoded data removed]",
      "text/plain": [
       "<Figure size 432x288 with 1 Axes>"
      ]
     },
     "metadata": {},
     "output_type": "display_data"
    }
   ],
   "source": [
    "cent=5;\n",
    "X, Y = make_blobs(n_samples=100, centers=cent, n_features=2)\n",
    "X = np.mat(X.T)\n",
    "Y = np.mat(Y.T)\n",
    "m=Y.size\n",
    "plt.scatter([X[0,:]],[X[1,:]],c=[Y])\n",
    "Y_new = np.zeros((cent,Y.size))\n",
    "for i in range(0,Y.size):\n",
    "    Y_new[Y[0,i]][i]=1\n",
    "Y=Y_new\n",
    "n_x = X.shape[0]\n",
    "n_y = Y.shape[0]"
   ]
  },
  {
   "cell_type": "code",
   "execution_count": 128,
   "metadata": {},
   "outputs": [],
   "source": [
    "def sigmoid(Z):\n",
    "    return 1/(1+np.exp(-Z));"
   ]
  },
  {
   "cell_type": "code",
   "execution_count": 129,
   "metadata": {},
   "outputs": [],
   "source": [
    "def init_param(n_x, n_h, n_y):\n",
    "    W1 = np.random.randn(n_h, n_x)*1\n",
    "    b1 = np.zeros((n_h, 1))\n",
    "    W2 = np.random.randn(n_y, n_h)*1\n",
    "    b2 = np.zeros((n_y, 1))\n",
    "    parameter = {\n",
    "        'W1' : W1,\n",
    "        'b1' : b1,\n",
    "        'W2' : W2,\n",
    "        'b2' : b2\n",
    "    }\n",
    "    return parameter"
   ]
  },
  {
   "cell_type": "code",
   "execution_count": 130,
   "metadata": {},
   "outputs": [],
   "source": [
    "def forward_propagation(X, parameter):\n",
    "    W1 = parameter['W1']\n",
    "    b1 = parameter['b1']\n",
    "    W2 = parameter['W2']\n",
    "    b2 = parameter['b2']\n",
    "    \n",
    "    Z1 = np.dot(W1, X) + b1;\n",
    "    A1 = np.tanh(Z1);\n",
    "    Z2 = np.dot(W2, A1) + b2;\n",
    "    A2 = sigmoid(Z2);\n",
    "    \n",
    "    cache = {\"Z1\": Z1,\n",
    "             \"A1\": A1,\n",
    "             \"Z2\": Z2,\n",
    "             \"A2\": A2}\n",
    "    return A2, cache"
   ]
  },
  {
   "cell_type": "code",
   "execution_count": 131,
   "metadata": {},
   "outputs": [],
   "source": [
    "def compute_cost(A2, Y):\n",
    "    loss = -1/Y.size*np.sum(np.multiply(Y, np.log(A2)) + np.multiply(np.log(1-A2), 1-Y))\n",
    "    return loss"
   ]
  },
  {
   "cell_type": "code",
   "execution_count": 132,
   "metadata": {},
   "outputs": [],
   "source": [
    "def backward_propogation(parameter, cache, X, Y):\n",
    "    m = Y.size\n",
    "    W1 = parameter['W1']\n",
    "    W2 = parameter['W2']\n",
    "    A1 = cache['A1']\n",
    "    A2 = cache['A2']\n",
    "    \n",
    "    dZ2 = A2 - Y\n",
    "    dW2 = np.dot(dZ2, A1.T)/m\n",
    "    db2 = (1 / m) * np.sum(dZ2, axis=1)\n",
    "    dA1 = np.dot(W2.T, dZ2)\n",
    "    dZ1 = np.multiply(dA1, 1 - np.power(A1, 2))\n",
    "    dW1 = np.dot(dZ1, X.T)/m\n",
    "    db1 = (1 / m) * np.sum(dZ1, axis=1)\n",
    "    grad = {\n",
    "        'dW1' : dW1,\n",
    "        'dW2' : dW2,\n",
    "        'db1' : db1,\n",
    "        'db2' : db2\n",
    "    }\n",
    "    return grad\n"
   ]
  },
  {
   "cell_type": "code",
   "execution_count": 133,
   "metadata": {},
   "outputs": [],
   "source": [
    "def update_param(parameter, grad, gamma = 1):\n",
    "    W1 = parameter['W1']\n",
    "    W2 = parameter['W2']\n",
    "    b1 = parameter['b1']\n",
    "    b2 = parameter['b2']\n",
    "    \n",
    "    dW1 = grad['dW1']\n",
    "    dW2 = grad['dW2']\n",
    "    db1 = grad['db1']\n",
    "    db2 = grad['db2']\n",
    "    \n",
    "    W1 = W1 - gamma * dW1\n",
    "    b1 = b1 - gamma * db1\n",
    "    W2 = W2 - gamma * dW2\n",
    "    b2 = b2 - gamma * db2\n",
    "    \n",
    "    parameter = {\"W1\": W1,\n",
    "                  \"b1\": b1,\n",
    "                  \"W2\": W2,\n",
    "                  \"b2\": b2}\n",
    "    return parameter"
   ]
  },
  {
   "cell_type": "code",
   "execution_count": 134,
   "metadata": {},
   "outputs": [],
   "source": [
    "def nn_model(X, Y, n_h, num_iterations=5):\n",
    "    parameter = init_param(n_x, n_h, n_y)\n",
    "    W1 = parameter['W1']\n",
    "    b1 = parameter['b1']\n",
    "    W2 = parameter['W2']\n",
    "    b2 = parameter['b2']\n",
    "    for i in range(0, num_iterations):\n",
    "        A2, cache = forward_propagation(X, parameter)\n",
    "        cost = compute_cost(A2, Y)\n",
    "        grad = backward_propogation(parameter, cache, X, Y)\n",
    "        parameter = update_param(parameter, grad)\n",
    "        if i % 1000 == 0:\n",
    "            print (\"Cost after iteration %i: %f\" % (i, cost))\n",
    "    return parameter"
   ]
  },
  {
   "cell_type": "code",
   "execution_count": 138,
   "metadata": {},
   "outputs": [
    {
     "name": "stdout",
     "output_type": "stream",
     "text": [
      "Cost after iteration 0: 1.768004\n",
      "Cost after iteration 1000: 0.005264\n",
      "Cost after iteration 2000: 0.002584\n",
      "Cost after iteration 3000: 0.001712\n",
      "Cost after iteration 4000: 0.001279\n",
      "Cost after iteration 5000: 0.001021\n",
      "Cost after iteration 6000: 0.000850\n",
      "Cost after iteration 7000: 0.000727\n",
      "Cost after iteration 8000: 0.000636\n",
      "Cost after iteration 9000: 0.000565\n",
      "Cost after iteration 10000: 0.000508\n"
     ]
    }
   ],
   "source": [
    "parameter = nn_model(X, Y, 10, num_iterations=10001)"
   ]
  },
  {
   "cell_type": "code",
   "execution_count": 139,
   "metadata": {},
   "outputs": [],
   "source": [
    "def predict(parameter, X):\n",
    "\n",
    "    A2, cache = forward_propagation(X, parameter)\n",
    "    prediction = np.round(A2)\n",
    "    return prediction"
   ]
  },
  {
   "cell_type": "code",
   "execution_count": 140,
   "metadata": {},
   "outputs": [
    {
     "data": {
      "text/plain": [
       "100.0"
      ]
     },
     "execution_count": 140,
     "metadata": {},
     "output_type": "execute_result"
    }
   ],
   "source": [
    "predictions = predict(parameter, X)\n",
    "100-np.sum(np.abs(predictions-Y))"
   ]
  },
  {
   "cell_type": "code",
   "execution_count": null,
   "metadata": {},
   "outputs": [],
   "source": []
  }
 ],
 "metadata": {
  "kernelspec": {
   "display_name": "Python 3",
   "language": "python",
   "name": "python3"
  },
  "language_info": {
   "codemirror_mode": {
    "name": "ipython",
    "version": 3
   },
   "file_extension": ".py",
   "mimetype": "text/x-python",
   "name": "python",
   "nbconvert_exporter": "python",
   "pygments_lexer": "ipython3",
   "version": "3.6.6"
  }
 },
 "nbformat": 4,
 "nbformat_minor": 2
}
