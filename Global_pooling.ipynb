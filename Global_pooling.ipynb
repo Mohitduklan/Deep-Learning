{
  "nbformat": 4,
  "nbformat_minor": 0,
  "metadata": {
    "colab": {
      "name": "Global pooling",
      "provenance": [],
      "collapsed_sections": [],
      "toc_visible": true,
      "include_colab_link": true
    },
    "kernelspec": {
      "display_name": "Python 3",
      "name": "python3"
    }
  },
  "cells": [
    {
      "cell_type": "markdown",
      "metadata": {
        "id": "view-in-github",
        "colab_type": "text"
      },
      "source": [
        "<a href=\"https://colab.research.google.com/github/Mohitduklan/Deep-Learning/blob/master/Global_pooling.ipynb\" target=\"_parent\"><img src=\"https://colab.research.google.com/assets/colab-badge.svg\" alt=\"Open In Colab\"/></a>"
      ]
    },
    {
      "cell_type": "code",
      "metadata": {
        "id": "j7y88s9csM4d"
      },
      "source": [
        "# Importing\n",
        "import numpy as np\n",
        "import tensorflow as tf\n",
        "import tensorflow.keras as keras"
      ],
      "execution_count": null,
      "outputs": []
    },
    {
      "cell_type": "code",
      "metadata": {
        "id": "lfa4wYj3scus",
        "colab": {
          "base_uri": "https://localhost:8080/"
        },
        "outputId": "b3a12127-f896-4b55-c583-60d2b14bf87a"
      },
      "source": [
        "# Creating sample input\n",
        "inputs = keras.layers.Input(shape=[5,10,3])\n",
        "input_sample = np.ones(shape=inputs.shape.as_list()[1:])\n",
        "input_sample = np.expand_dims(input_sample, axis=0)\n",
        "input_sample.shape"
      ],
      "execution_count": null,
      "outputs": [
        {
          "output_type": "execute_result",
          "data": {
            "text/plain": [
              "(1, 5, 10, 3)"
            ]
          },
          "metadata": {
            "tags": []
          },
          "execution_count": 144
        }
      ]
    },
    {
      "cell_type": "code",
      "metadata": {
        "id": "86lIjlLvssjj",
        "colab": {
          "base_uri": "https://localhost:8080/"
        },
        "outputId": "5c329e27-b0fb-4cd5-9d70-c640b91e9c8d"
      },
      "source": [
        "# Creating model\n",
        "tf.keras.backend.clear_session()\n",
        "\n",
        "global_pool = keras.layers.GlobalMaxPooling2D()(inputs)\n",
        "model = keras.Model(inputs=inputs, outputs=global_pool)\n",
        "out = model.predict(input_sample)\n",
        "print(out)"
      ],
      "execution_count": null,
      "outputs": [
        {
          "output_type": "stream",
          "text": [
            "WARNING:tensorflow:10 out of the last 11 calls to <function Model.make_predict_function.<locals>.predict_function at 0x7fd360decf80> triggered tf.function retracing. Tracing is expensive and the excessive number of tracings could be due to (1) creating @tf.function repeatedly in a loop, (2) passing tensors with different shapes, (3) passing Python objects instead of tensors. For (1), please define your @tf.function outside of the loop. For (2), @tf.function has experimental_relax_shapes=True option that relaxes argument shapes that can avoid unnecessary retracing. For (3), please refer to https://www.tensorflow.org/guide/function#controlling_retracing and https://www.tensorflow.org/api_docs/python/tf/function for  more details.\n",
            "[[1. 1. 1.]]\n"
          ],
          "name": "stdout"
        }
      ]
    },
    {
      "cell_type": "code",
      "metadata": {
        "id": "rfLeaymh1XaF"
      },
      "source": [
        "# Manipulating input_sample\n",
        "input_sample = np.ones(shape=inputs.shape.as_list()[1:])\n",
        "input_sample[:,:,0] = input_sample[:,:,0]*2 # first channel\n",
        "input_sample[:,:,1] = input_sample[:,:,1]*5 # second channel\n",
        "input_sample[:,:,2] = input_sample[:,:,1]*8 # third channel\n",
        "input_sample = np.expand_dims(input_sample, axis=0)"
      ],
      "execution_count": null,
      "outputs": []
    },
    {
      "cell_type": "code",
      "metadata": {
        "id": "1ZY711au1gul",
        "colab": {
          "base_uri": "https://localhost:8080/"
        },
        "outputId": "df310a91-79f6-4374-e79c-34ce2d9facf0"
      },
      "source": [
        "out = model.predict(input_sample)\n",
        "print(out)"
      ],
      "execution_count": null,
      "outputs": [
        {
          "output_type": "stream",
          "text": [
            "[[ 2.  5. 40.]]\n"
          ],
          "name": "stdout"
        }
      ]
    }
  ]
}